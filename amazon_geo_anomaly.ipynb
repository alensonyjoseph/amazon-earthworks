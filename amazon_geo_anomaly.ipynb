{
 "cells": [
  {
   "cell_type": "code",
   "execution_count": null,
   "id": "8f18be72",
   "metadata": {},
   "outputs": [],
   "source": [
    "\n",
    "import numpy as np\n",
    "import geopandas as gpd\n",
    "import pandas as pd\n",
    "import rasterio\n",
    "from rasterio.plot import show\n",
    "import matplotlib.pyplot as plt\n",
    "from shapely.geometry import Point\n"
   ]
  },
  {
   "cell_type": "code",
   "execution_count": null,
   "id": "57b859d5",
   "metadata": {},
   "outputs": [],
   "source": [
    "\n",
    "sites = pd.DataFrame({\n",
    "    'Site': ['Purus Geoglyph', 'Pando Cluster', 'Mato Grosso', 'Loreto Mound', 'Guiana ADE'],\n",
    "    'Lat': [-8.6, -10.5, -12.941, -1.0, 0.5],\n",
    "    'Lon': [-65.0, -66.8, -55.301, -70.0, -59.0],\n",
    "    'Evidence': [\n",
    "        '300 m circular ditch, NDVI ring, GEDI break',\n",
    "        '250 m square earthwork, moat, canopy flat',\n",
    "        '180 m platform, NDVI hotspot',\n",
    "        '250 m oval mound, canopy dip',\n",
    "        'ADE patch, biomass spike'\n",
    "    ]\n",
    "})\n",
    "sites.to_csv('top5_sites.csv', index=False)\n",
    "\n",
    "gdf = gpd.GeoDataFrame(\n",
    "    sites,\n",
    "    geometry=gpd.points_from_xy(sites['Lon'], sites['Lat']),\n",
    "    crs=\"EPSG:4326\"\n",
    ")\n",
    "gdf.to_file('top5_sites.geojson', driver='GeoJSON')\n"
   ]
  },
  {
   "cell_type": "code",
   "execution_count": null,
   "id": "19e1122b",
   "metadata": {},
   "outputs": [],
   "source": [
    "\n",
    "dem_path = 'SRTM_site1.tif'\n",
    "with rasterio.open(dem_path) as src:\n",
    "    dem = src.read(1)\n",
    "    fig, ax = plt.subplots(figsize=(8,8))\n",
    "    ax.imshow(dem, cmap='terrain')\n",
    "    ax.set_title('Pseudo-hillshade / DEM')\n",
    "    plt.axis('off')\n",
    "    plt.savefig('hillshade_demo.png', dpi=300)\n",
    "    plt.show()\n"
   ]
  },
  {
   "cell_type": "code",
   "execution_count": null,
   "id": "463f5d77",
   "metadata": {},
   "outputs": [],
   "source": [
    "\n",
    "red_path = 'S2_B04_site1.tif'\n",
    "nir_path = 'S2_B08_site1.tif'\n",
    "with rasterio.open(red_path) as r, rasterio.open(nir_path) as n:\n",
    "    red = r.read(1).astype(float)\n",
    "    nir = n.read(1).astype(float)\n",
    "    ndvi = (nir - red) / (nir + red + 1e-10)\n",
    "    plt.imshow(ndvi, cmap='RdYlGn')\n",
    "    plt.colorbar(label='NDVI')\n",
    "    plt.title('NDVI')\n",
    "    plt.axis('off')\n",
    "    plt.savefig('ndvi_demo.png', dpi=300)\n",
    "    plt.show()\n"
   ]
  },
  {
   "cell_type": "code",
   "execution_count": null,
   "id": "c45c8341",
   "metadata": {},
   "outputs": [],
   "source": [
    "\n",
    "gedi_points = pd.DataFrame({\n",
    "    'Lat': [-8.6, -10.5, -12.941, -1.0, 0.5],\n",
    "    'Lon': [-65.0, -66.8, -55.301, -70.0, -59.0],\n",
    "    'RH90': [15, 20, 12, 18, 22]\n",
    "})\n",
    "plt.scatter(gedi_points['Lon'], gedi_points['Lat'], c=gedi_points['RH90'], cmap='YlGn', s=100)\n",
    "plt.colorbar(label='Canopy Height (RH90)')\n",
    "plt.title('GEDI canopy at candidate sites')\n",
    "plt.xlabel('Longitude')\n",
    "plt.ylabel('Latitude')\n",
    "plt.savefig('gedi_demo.png', dpi=300)\n",
    "plt.show()\n"
   ]
  },
  {
   "cell_type": "code",
   "execution_count": null,
   "id": "83f801ba",
   "metadata": {},
   "outputs": [],
   "source": [
    "\n",
    "print(\"Done. Outputs generated:\")\n",
    "print(\"- top5_sites.csv, top5_sites.geojson\")\n",
    "print(\"- hillshade_demo.png, ndvi_demo.png, gedi_demo.png\")\n"
   ]
  }
 ],
 "metadata": {},
 "nbformat": 4,
 "nbformat_minor": 5
}
